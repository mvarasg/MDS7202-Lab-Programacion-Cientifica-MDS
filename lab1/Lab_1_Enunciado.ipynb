{
  "nbformat": 4,
  "nbformat_minor": 0,
  "metadata": {
    "colab": {
      "provenance": []
    },
    "kernelspec": {
      "name": "python3",
      "display_name": "Python 3"
    },
    "language_info": {
      "name": "python"
    }
  },
  "cells": [
    {
      "cell_type": "markdown",
      "source": [
        "<h1><center>Laboratorio 1: Git 👾</center></h1>\n",
        "\n",
        "<center><strong>MDS7202: Laboratorio de Programación Científica para Ciencia de Datos - Otoño 2023</strong></center>"
      ],
      "metadata": {
        "id": "J4_IcuuKZj9Y"
      }
    },
    {
      "cell_type": "markdown",
      "source": [
        "### Cuerpo Docente:\n",
        "\n",
        "- Profesores: Pablo Badilla, Ignacio Meza D.\n",
        "- Auxiliar: Sebastián Tinoco\n",
        "- Ayudante: Diego Cortez"
      ],
      "metadata": {
        "id": "AEXIACc7aADv"
      }
    },
    {
      "cell_type": "markdown",
      "source": [
        "### Equipo: SUPER IMPORTANTE - notebooks sin nombre no serán revisados\n",
        "\n",
        "- Nombre de alumno 1: Martín Sepúlveda\n",
        "- Nombre de alumno 2: Maximiliano Varas"
      ],
      "metadata": {
        "id": "0HgMMyoCaG8X"
      }
    },
    {
      "cell_type": "markdown",
      "source": [
        "### **Link de repositorio de GitHub:** \n",
        "<code>https://github.com/mvarasg/labs-sepulveda-varas</code>\n",
        "\n"
      ],
      "metadata": {
        "id": "fz77X6glaK6y"
      }
    },
    {
      "cell_type": "markdown",
      "source": [
        "## Reglas:\n",
        "\n",
        "- Fecha de entrega: 6 días desde la publicación, 3 días de atraso con 1 punto de descuento c/u. Pueden utilizar días bonus sin descuento.\n",
        "- **Grupos de 2 personas**.\n",
        "- **Ausentes** deberán realizar la actividad solos. \n",
        "- Cualquier duda fuera del horario de clases al foro. Mensajes al equipo docente serán respondidos por este medio.\n",
        "- <u>Prohibidas las copias</u>. Cualquier intento de copia será debidamente penalizado con el reglamento de la escuela.\n",
        "- Pueden usar cualquer material del curso que estimen conveniente.\n",
        "- Asistencia obligatoria a instrucciones del lab (viernes 16.15). Luego, pueden quedarse trabajando en las salas o irse."
      ],
      "metadata": {
        "id": "rRwqaxIZaNx3"
      }
    },
    {
      "cell_type": "markdown",
      "source": [
        "## Objetivos del lab:\n",
        "\n",
        "\n",
        "- Conocer los elementos básicos que conformar `Git`\n",
        "- Clonar repositorios\n",
        "- Identificar ramas de un repositorio\n",
        "- Reconocer y solucionar problemas entre ramas\n",
        "- Subir cambios a un repositorio"
      ],
      "metadata": {
        "id": "bmToL27JaSrf"
      }
    },
    {
      "cell_type": "markdown",
      "source": [
        "## Parte 1: Conocimiento Teórico (2 pts)"
      ],
      "metadata": {
        "id": "bvnPCvrVbJLK"
      }
    },
    {
      "cell_type": "markdown",
      "source": [
        "Responda las siguientes preguntas (0.2 pts c/u):\n",
        "\n",
        "\n",
        "1. ¿Qué es `Git` y cómo se relaciona con el control de versiones?\n",
        "\n",
        "  + Git es un sistema de control de versiones distribuido (DVCS), por lo que sirve como un control de versiones en donde se puede hacer un repositorio del proyecto e ir haciendo pull a los cambios realizados al proyecto de forma local. Tiene la ventaja de que múltiples usuarios pueden realizar cambios y se lleva un estricto log de los cambios en los archivos. Al realizar un commit se puede indicar un mensaje con los cambios generales al proyecto y puede ser revisado por otro usuario. Al ser un sistema distribuido tiene menos probabilidades de perder la información del proyecto respecto a un sistema centralizado.\n",
        "\n",
        "\n",
        "2. Nombre y explique 3 diferencias entre `Git` y `Github`.\n",
        "\n",
        "    + Git es un DVCS y Github es el servidor donde se almacena la información y presenta una interfaz gráfica basada en Web.\n",
        "    + Git no presenta una interfaz gráfica, es utilizado por línea de comandos.\n",
        "    + Git crea un repositorio local para poder trackear cambios y Github es el espacio donde se guardan los cambios realizados en GIT. \n",
        "    + Git es un software, Github es servidor web que entrega funcionalidades de Git y otras features.\n",
        "\n",
        "\n",
        "3. ¿Qué es un `hash` y cómo se representa en un `commit`? De un ejemplo.\n",
        "\n",
        "    +  Un `hash` es una representación única de 40 caracteres usada para representar los distintos elementos de un proyecto de `Git`, donde los `commit` a su vez forman parte de estos elementos, una versión de los primeros 6 caracteres del `hash` también puede representan un `commit`. Un ejemplo de la estructura de un `commit` es la siguiente:\n",
        "\n",
        "    ```  \n",
        "        * commit b262d86411a6b017e99bf0731e33a6787739247c\n",
        "      Author: author-name\n",
        "      Date:   Date\n",
        "\n",
        "          commit description\n",
        "    ```\n",
        "\n",
        "4. ¿Qué elementos componen a la estructura de datos de `Git`?\n",
        "\n",
        "    + Los elementos que componen a la estructura de datos de `Git` son principalmente las siguientes:\n",
        "      - `Blob` : corresponde a la estructura básica de almacenamiento de archivos de `Git` \n",
        "      - `Tree` : representa al directorio para blobs o más trees\n",
        "      - `Commit` : es un snapshot o captura del estado actual de los archivos para su almacenamiento en git y así mismo registrar los cambios en estos mismos.\n",
        "\n",
        "\n",
        "5. ¿Que comandos de `Git` sirven para crear un repositorio y hacer seguimiento a cambios en los archivos?\n",
        "\n",
        "- Es posible crear un repositorio a través del comando de `Git` `git init [repo_name]`, mientras que para hacer seguimiento de los cambios en los archivos, es posible ejecutar el comando `git log` tal que muestra los commit ejecutados en el repositorio y la evolución de los cambios en los distintos archivos."
      ],
      "metadata": {
        "id": "JHl-24XnbNLF"
      }
    },
    {
      "cell_type": "markdown",
      "source": [
        "<code>Escriba sus respuestas acá:</code>"
      ],
      "metadata": {
        "id": "2tXCSkf0caG8"
      }
    },
    {
      "cell_type": "markdown",
      "source": [
        "Responda si las siguientes afirmaciones son Verdaderas (V) o Falsas (F). Justifique en **cualquiera** de los casos (0.2 pts c/u):\n",
        "\n",
        "\n",
        "6. `Git` siempre resuelve automáticamente los problemas de lineas al hacer merge entre diferentes ramas.\n",
        "7. Ejecutar `git pull` sobre un repositorio es equivalente a ejecutar `git clone`.\n",
        "8. Cada miembro del equipo trabaja en la misma copia del código fuente usando `Git`.\n",
        "9. En `Git` es posible deshacer cambios y volver a versiones anteriores del código.\n",
        "10. El comando `git commit` se utiliza para enviar cambios al repositorio remoto."
      ],
      "metadata": {
        "id": "MACccbP4gU43"
      }
    },
    {
      "cell_type": "markdown",
      "source": [
        "6. Falso, es posible que surjan conflictos en algunas secciones del código debido a trabajo paralelo, estos conflictos se deben resolver de manera manual.\n",
        "\n",
        "7. Falso, `git clone` es utilizado para copiar un repositorio remoto de manera local, mientras que `git pull` dado un repositorio local asociado a su ubicación remota, actualiza el estado actual del repositorio actual respecto a los nuevos cambios del remoto.\n",
        "\n",
        "8. Falso, cada miembro del equipo posee una copia local del repositorio alojado de manera remota, donde las actualizaciones del repositorio son sincronizadas a través de actualizaciones con el comando de `git push`\n",
        "\n",
        "9. Verdadero, es posible deshacer cambios al estado guardado en cualquiera de los `commit` previamente hechos en el repositorio, esto es posible a través del comando `git revert <commit>`\n",
        "\n",
        "10. Falso, el comando `git commit` sirve para guardar los cambios de manera local de los archivos, mientras que `git push` envía estos cambios ejecutados de manera local al repositorio remoto."
      ],
      "metadata": {
        "id": "DFnmCToOgeM3"
      }
    },
    {
      "cell_type": "markdown",
      "source": [
        "## Parte 2: Creando una presentación personal (2 pts)"
      ],
      "metadata": {
        "id": "i7Em9JkbbRLo"
      }
    },
    {
      "cell_type": "markdown",
      "source": [
        "Para empezar a \"*soltar las manos*\" con `Git`, se les encomienda crear un repositorio con una presentación personal. El repositorio debe contener un breve resumen de quienes son ustedes, sus gustos, experiencias, y cualquier otro detalle interesante que ustedes consideren relevante. \n",
        "\n",
        "Para realizar esto, deben seguir los siguientes pasos:\n",
        "\n",
        "1. Contar con una cuenta de github (1 por persona)\n",
        "2. Crear un repositorio con su nombre de usuario\n",
        "3. Crear y modificar un archivo `readme.md` con la información que ustedes deseen compartir.\n",
        "\n",
        "A modo de ejemplo, pueden guiarse por esta *suculenta* [presentación](https://github.com/pbadillatorrealba/pbadillatorrealba).\n",
        "\n",
        "*Hint: Una buena opción es usar templates de presentación personal que encuentren en Google, como los que ofrece este [sitio](https://durgeshsamariya.github.io/awesome-github-profile-readme-templates/#/)*.\n",
        "\n",
        "**Entregable:**\n",
        "\n",
        "Enlace al repositorio con la presentación personal. \n",
        "\n",
        "IMPORTANTE: DEBEN ADJUNTAR UN ENLACE POR PERSONA"
      ],
      "metadata": {
        "id": "XWIHfyrlbYOJ"
      }
    },
    {
      "cell_type": "markdown",
      "source": [
        "<code>Link Presentacion 1: https://github.com/martinsep/martinsep </code>\n",
        "\n",
        "<code>Link Presentacion 2: https://github.com/mvarasg/mvarasg</code>"
      ],
      "metadata": {
        "id": "IIkWyl9tf0Sg"
      }
    },
    {
      "cell_type": "markdown",
      "source": [
        "## Parte 3: Trabajando sobre un repositorio externo (2 pts)"
      ],
      "metadata": {
        "id": "CAzXOwvDY-IG"
      }
    },
    {
      "cell_type": "markdown",
      "source": [
        "Tras muchos dolores de cabeza, un grupo de entusiastas académicos decidieron aprender sobre `Git` y así trabajar colaborativamente de forma más ordenada y eficiente. Después de una infinidad de intentos y aprender de sus errores \"*a la mala*\", los académicos lograron levantar un [repositorio](https://github.com/MDS7202/lab1) en `Github`. Usando el repositorio de los académicos, responda las siguientes preguntas (incluya también los comandos en `Git` ocupados):"
      ],
      "metadata": {
        "id": "84Yjuxxvdfzh"
      }
    },
    {
      "cell_type": "markdown",
      "source": [
        "1. Clone el repositorio a su ambiente local. (0.25 pts)"
      ],
      "metadata": {
        "id": "BFRnAw0rfguR"
      }
    },
    {
      "cell_type": "markdown",
      "source": [
        "<code>git clone https://github.com/MDS7202/lab1.git</code>"
      ],
      "metadata": {
        "id": "KXro32yBeilN"
      }
    },
    {
      "cell_type": "markdown",
      "source": [
        "2. Inspeccione brevemente el repositorio: ¿Cual es el objetivo del proyecto? Explique brevemente la estructura del proyecto, asi como también de cada componente que lo conforma. (0.25 pts)"
      ],
      "metadata": {
        "id": "q2qmiDyjt2M_"
      }
    },
    {
      "cell_type": "markdown",
      "source": [
        "El repositorio actualmente contiene 3 archivos, README.md que corresponde a un descripcion general del repositorio, donde el programa tiene el objetivo de emular los sonidos de los animales, el archivo animales.py corresponde a un modulo de funciones que, dado un string asociado al nombre de un animal, devuelve un string asociado a ese animal. Por último el archivo main.py corresponde al archivo ejecutable, que interactúa con el usuario a través de la terminal y ejecuta la función del módulo animal dado un string ingresado vía terminal por el usuario."
      ],
      "metadata": {
        "id": "aBHpR8VTftkT"
      }
    },
    {
      "cell_type": "markdown",
      "source": [
        "3. Identifique los últimos cambios al repositorio, reconociendo las principales ramas de trabajo. ¿Son informativos los `commit` realizados? (0.25 pts)\n",
        "*Hint: Se recomienda usar los argumentos `all`, `graph` y `decorate`*"
      ],
      "metadata": {
        "id": "XFwqcpLZfylf"
      }
    },
    {
      "cell_type": "markdown",
      "source": [
        "Se utliza el comando:\n",
        "\n",
        "<code>git log --all --graph --decorate</code>\n",
        "\n",
        "Del cual se obtuvo que en el repositorio se han ejecutado 4 commits, el último commit fue generado en la rama fix-ifs, mientras que en las ramas main y new_features fue ejecutado el cambio de división del proyecto en módulos, en general, los commits son informativos debido a que son concisos y hacen referencia a los cambios ejecutados en el commit. Así mismo, las principales ramas que hay en el proyecto son main, new_features y fix-ifs.\n",
        "\n",
        "Si el repositorio fuera creciendo y haciendose más complejo el proyecto quizás se podrían poner commit más elaborados, pero dada lo simple del proyecto se considera que son informativos.\n"
      ],
      "metadata": {
        "id": "cmWfXBkOhog0"
      }
    },
    {
      "cell_type": "markdown",
      "source": [
        "4. Uno de los académicos se da cuenta que la rama principal de trabajo no se ejecuta correctamente para todos los argumentos. Señale el error en el código e identifique a la persona que lo cometió usando `git blame` (0.25 pts)\n",
        "\n",
        "*Hint: Le puede ser útil esta [documentación](https://www.atlassian.com/es/git/tutorials/inspecting-a-repository/git-blame).*"
      ],
      "metadata": {
        "id": "Vqbj9HdXrUnN"
      }
    },
    {
      "cell_type": "markdown",
      "source": [
        "Se utiliza el comando:\n",
        "\n",
        "<code> git blame animales.py </code>\n",
        "\n",
        "El error se encuentra en el archivo <code>animales.py</code> y se debe a que se utilizan <code>if</code> cuando deberían ser <code>elif</code> para el \"perro\" y el \"fox\". Notar que el error se da cuando se da como imput algo distinto de \"fox\", por lo tanto, entra al siguiente <code>else</code>. \n",
        "Al realizar git blame <code>animales.py</code> se puede ver que el culpable es <code>mezosky</code>.\n"
      ],
      "metadata": {
        "id": "5ajhV2Iar3tV"
      }
    },
    {
      "cell_type": "markdown",
      "source": [
        "5. Busque los siguientes `commit`:\n",
        "\n",
        "- `c8b1a62d7299552b0654f930d695b33109214111`\n",
        "- `362fe21ee44f53ee944cee4ba484600308f83d78`\n",
        "- `25543a3baf77292baf849726784ca005473acab1`\n",
        "\n",
        "¿Qué diferencias existen entre cada uno? (0.25 pts)"
      ],
      "metadata": {
        "id": "m8J3uE7MhqTA"
      }
    },
    {
      "cell_type": "markdown",
      "source": [
        "Para cada uno de los siguientes commit, se puede describir de la siguiente manera:\n",
        "\n",
        "  - `c8b1a62d7299552b0654f930d695b33109214111`: es el segundo commit del proyecto, posee la descripción \"se agrega funcion\", este commit contempla adición de líneas en el archivo main.py, donde se agrega la funcion animales() a todas las ramas del repositorio.\n",
        "  - `362fe21ee44f53ee944cee4ba484600308f83d78`: es el tercer commit del proyecto, posee la descripción \"Se separa el proyecto en modulos\", estos cambios contempla la creación de un módulo llamado animales.py, donde se aloja la funcion animales() y posteriormente es eliminada de main.py, este commit afectó a las ramas main y new_features\n",
        "  - `25543a3baf77292baf849726784ca005473acab1`: es el cuarto commit del proyecto, posee la descripción \"fix ifs\", estos cambios contemplan un arreglo en los ifs de la funcion animales() que está en main.py, esto se lleva a cabo en la rama fix-if, cabe destacar que los cambios del tercer commit no afectaron a la rama fix-ifs, por esto la funcion animales() sigue en el archivo main.py para este commit."
      ],
      "metadata": {
        "id": "sNHnZsgIitGh"
      }
    },
    {
      "cell_type": "markdown",
      "source": [
        "6. Realice una `merge` de la rama `fix-ifs` con la rama `main` y describa lo que ocurre. ¿Qué parte del código podría estar ocasionando esto? (0.25 pts)"
      ],
      "metadata": {
        "id": "WQIPbfNCgpxC"
      }
    },
    {
      "cell_type": "markdown",
      "source": [
        "Se aplica el siguiente comando: <code>git merge origin/fix-ifs main</code>\n",
        "\n",
        "Se obtiene un error al hacer merge dado que hay una diferencia entre los archivos main.py de ambas ramas. Esto se debe a que el archivo main de la rama main no contiene la función animales y está en un archivo distinto. La rama fix-ifs realiza las modificaciones en directamente a la funcion animales en el archivo main.pu .los ifs antes mencionados.\n",
        "\n",
        "Error: <code>Merge conflict in main.py</code>\n"
      ],
      "metadata": {
        "id": "ypH_6lL5ioZz"
      }
    },
    {
      "cell_type": "markdown",
      "source": [
        "7. Cree una rama nueva y proponga una solución al problema anterior, adjuntando el código corregido y señalando las líneas modificadas. (0.5 pts)\n"
      ],
      "metadata": {
        "id": "GYfODCjeivkU"
      }
    },
    {
      "cell_type": "markdown",
      "source": [
        "\n",
        "Lo primero es cancelar el merge entre main y origin/fix-ifs con <code>git merge --abort</code>, luego se crea un nuevo branch con <code> git branch fix-ifs-main main</code> y se cambia a esa rama utilizando <code>git checkout fix-ifs-main</code>. Luego se modifica el archivo animales.py con el comando <code>vim animales.py</code> y se cambian los dos últimos if por elif.\n",
        "\n",
        "Solo quedaría hacer un commit y el push del nuevo branch, para posteriormente  hacer el merge entre ambas ramas."
      ],
      "metadata": {
        "id": "8heBxDU9iziT"
      }
    },
    {
      "cell_type": "markdown",
      "source": [
        "## Fin"
      ],
      "metadata": {
        "id": "Av8ebB9jkALO"
      }
    },
    {
      "cell_type": "markdown",
      "source": [
        "Eso ha sido todo por ahora!! Esperamos que este laboratorio les haya gustado y servido para trabajar con `Git`. Recuerden los dias de plazo que tienen disponibles y que ante cualquier duda no duden en contactar al equipo docente. \n",
        "\n",
        "Nos vemos!! \n",
        "\n",
        "<img src=https://media.tenor.com/OYLdav9k9LkAAAAd/kitty-cat.gif height=300>\n"
      ],
      "metadata": {
        "id": "aQqZT9fSkBK8"
      }
    }
  ]
}